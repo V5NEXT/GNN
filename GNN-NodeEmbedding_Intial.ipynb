{
  "nbformat": 4,
  "nbformat_minor": 0,
  "metadata": {
    "colab": {
      "name": "GNN.ipynb",
      "provenance": [],
      "authorship_tag": "ABX9TyMowgDh0XhokU66WrHVu066",
      "include_colab_link": true
    },
    "kernelspec": {
      "name": "python3",
      "display_name": "Python 3"
    },
    "language_info": {
      "name": "python"
    }
  },
  "cells": [
    {
      "cell_type": "markdown",
      "metadata": {
        "id": "view-in-github",
        "colab_type": "text"
      },
      "source": [
        "<a href=\"https://colab.research.google.com/github/V5NEXT/GNN/blob/main/GNN-NodeEmbedding_Intial.ipynb\" target=\"_parent\"><img src=\"https://colab.research.google.com/assets/colab-badge.svg\" alt=\"Open In Colab\"/></a>"
      ]
    },
    {
      "cell_type": "code",
      "execution_count": 2,
      "metadata": {
        "colab": {
          "base_uri": "https://localhost:8080/"
        },
        "id": "6DKl_tEtF7gp",
        "outputId": "f29a8c47-5a9f-448a-ee2d-d6476a798b67"
      },
      "outputs": [
        {
          "output_type": "stream",
          "name": "stdout",
          "text": [
            "\u001b[K     |████████████████████████████████| 435 kB 16.9 MB/s \n",
            "\u001b[K     |████████████████████████████████| 482 kB 52.4 MB/s \n",
            "\u001b[K     |████████████████████████████████| 462 kB 46.8 MB/s \n",
            "\u001b[K     |████████████████████████████████| 41 kB 559 kB/s \n",
            "\u001b[?25h  Building wheel for mplleaflet (setup.py) ... \u001b[?25l\u001b[?25hdone\n"
          ]
        }
      ],
      "source": [
        "import sys\n",
        "if 'google.colab' in sys.modules:\n",
        "  %pip install -q stellargraph[demos]==1.2.1"
      ]
    },
    {
      "cell_type": "code",
      "source": [
        "import stellargraph as sg\n",
        "\n",
        "try:\n",
        "    sg.utils.validate_notebook_version(\"1.2.1\")\n",
        "except AttributeError:\n",
        "    raise ValueError(\n",
        "        f\"This notebook requires StellarGraph version 1.2.1, but a different version {sg.__version__} is installed.  Please see <https://github.com/stellargraph/stellargraph/issues/1172>.\"\n",
        "    ) from None"
      ],
      "metadata": {
        "id": "20xAjMIAGN5B"
      },
      "execution_count": 3,
      "outputs": []
    },
    {
      "cell_type": "code",
      "source": [
        "import pandas as pd\n",
        "import os\n",
        "\n",
        "import stellargraph as sg\n",
        "from stellargraph.mapper import FullBatchNodeGenerator\n",
        "from stellargraph.layer import GCN\n",
        "\n",
        "from tensorflow.keras import layers, optimizers, losses, metrics, Model\n",
        "from sklearn import preprocessing, model_selection\n",
        "from IPython.display import display, HTML\n",
        "import matplotlib.pyplot as plt\n",
        "%matplotlib inline"
      ],
      "metadata": {
        "id": "mG3xib28GPpA"
      },
      "execution_count": 4,
      "outputs": []
    },
    {
      "cell_type": "code",
      "source": [
        "dataset = sg.datasets.Cora()\n",
        "display(HTML(dataset.description))\n",
        "G, node_subjects = dataset.load()"
      ],
      "metadata": {
        "colab": {
          "base_uri": "https://localhost:8080/",
          "height": 52
        },
        "id": "_9Qw4eyLGW58",
        "outputId": "16415db4-18ce-4820-c659-22fd7a24bb45"
      },
      "execution_count": 5,
      "outputs": [
        {
          "output_type": "display_data",
          "data": {
            "text/plain": [
              "<IPython.core.display.HTML object>"
            ],
            "text/html": [
              "The Cora dataset consists of 2708 scientific publications classified into one of seven classes. The citation network consists of 5429 links. Each publication in the dataset is described by a 0/1-valued word vector indicating the absence/presence of the corresponding word from the dictionary. The dictionary consists of 1433 unique words."
            ]
          },
          "metadata": {}
        }
      ]
    },
    {
      "cell_type": "code",
      "source": [
        "print(G.info())"
      ],
      "metadata": {
        "colab": {
          "base_uri": "https://localhost:8080/"
        },
        "id": "RiXHz2y1VlpE",
        "outputId": "2f3b6f9a-074b-4b13-f0f4-cc77c327dbf1"
      },
      "execution_count": 6,
      "outputs": [
        {
          "output_type": "stream",
          "name": "stdout",
          "text": [
            "StellarGraph: Undirected multigraph\n",
            " Nodes: 2708, Edges: 5429\n",
            "\n",
            " Node types:\n",
            "  paper: [2708]\n",
            "    Features: float32 vector, length 1433\n",
            "    Edge types: paper-cites->paper\n",
            "\n",
            " Edge types:\n",
            "    paper-cites->paper: [5429]\n",
            "        Weights: all 1 (default)\n",
            "        Features: none\n"
          ]
        }
      ]
    },
    {
      "cell_type": "code",
      "source": [
        "node_subjects.value_counts().to_frame()"
      ],
      "metadata": {
        "colab": {
          "base_uri": "https://localhost:8080/",
          "height": 268
        },
        "id": "4smk_RIdV_na",
        "outputId": "7d73885a-a4b4-4e59-cd21-cd50ca613b5f"
      },
      "execution_count": 7,
      "outputs": [
        {
          "output_type": "execute_result",
          "data": {
            "text/plain": [
              "                        subject\n",
              "Neural_Networks             818\n",
              "Probabilistic_Methods       426\n",
              "Genetic_Algorithms          418\n",
              "Theory                      351\n",
              "Case_Based                  298\n",
              "Reinforcement_Learning      217\n",
              "Rule_Learning               180"
            ],
            "text/html": [
              "\n",
              "  <div id=\"df-1efb4ed2-e264-4d89-93f6-da6744ef7495\">\n",
              "    <div class=\"colab-df-container\">\n",
              "      <div>\n",
              "<style scoped>\n",
              "    .dataframe tbody tr th:only-of-type {\n",
              "        vertical-align: middle;\n",
              "    }\n",
              "\n",
              "    .dataframe tbody tr th {\n",
              "        vertical-align: top;\n",
              "    }\n",
              "\n",
              "    .dataframe thead th {\n",
              "        text-align: right;\n",
              "    }\n",
              "</style>\n",
              "<table border=\"1\" class=\"dataframe\">\n",
              "  <thead>\n",
              "    <tr style=\"text-align: right;\">\n",
              "      <th></th>\n",
              "      <th>subject</th>\n",
              "    </tr>\n",
              "  </thead>\n",
              "  <tbody>\n",
              "    <tr>\n",
              "      <th>Neural_Networks</th>\n",
              "      <td>818</td>\n",
              "    </tr>\n",
              "    <tr>\n",
              "      <th>Probabilistic_Methods</th>\n",
              "      <td>426</td>\n",
              "    </tr>\n",
              "    <tr>\n",
              "      <th>Genetic_Algorithms</th>\n",
              "      <td>418</td>\n",
              "    </tr>\n",
              "    <tr>\n",
              "      <th>Theory</th>\n",
              "      <td>351</td>\n",
              "    </tr>\n",
              "    <tr>\n",
              "      <th>Case_Based</th>\n",
              "      <td>298</td>\n",
              "    </tr>\n",
              "    <tr>\n",
              "      <th>Reinforcement_Learning</th>\n",
              "      <td>217</td>\n",
              "    </tr>\n",
              "    <tr>\n",
              "      <th>Rule_Learning</th>\n",
              "      <td>180</td>\n",
              "    </tr>\n",
              "  </tbody>\n",
              "</table>\n",
              "</div>\n",
              "      <button class=\"colab-df-convert\" onclick=\"convertToInteractive('df-1efb4ed2-e264-4d89-93f6-da6744ef7495')\"\n",
              "              title=\"Convert this dataframe to an interactive table.\"\n",
              "              style=\"display:none;\">\n",
              "        \n",
              "  <svg xmlns=\"http://www.w3.org/2000/svg\" height=\"24px\"viewBox=\"0 0 24 24\"\n",
              "       width=\"24px\">\n",
              "    <path d=\"M0 0h24v24H0V0z\" fill=\"none\"/>\n",
              "    <path d=\"M18.56 5.44l.94 2.06.94-2.06 2.06-.94-2.06-.94-.94-2.06-.94 2.06-2.06.94zm-11 1L8.5 8.5l.94-2.06 2.06-.94-2.06-.94L8.5 2.5l-.94 2.06-2.06.94zm10 10l.94 2.06.94-2.06 2.06-.94-2.06-.94-.94-2.06-.94 2.06-2.06.94z\"/><path d=\"M17.41 7.96l-1.37-1.37c-.4-.4-.92-.59-1.43-.59-.52 0-1.04.2-1.43.59L10.3 9.45l-7.72 7.72c-.78.78-.78 2.05 0 2.83L4 21.41c.39.39.9.59 1.41.59.51 0 1.02-.2 1.41-.59l7.78-7.78 2.81-2.81c.8-.78.8-2.07 0-2.86zM5.41 20L4 18.59l7.72-7.72 1.47 1.35L5.41 20z\"/>\n",
              "  </svg>\n",
              "      </button>\n",
              "      \n",
              "  <style>\n",
              "    .colab-df-container {\n",
              "      display:flex;\n",
              "      flex-wrap:wrap;\n",
              "      gap: 12px;\n",
              "    }\n",
              "\n",
              "    .colab-df-convert {\n",
              "      background-color: #E8F0FE;\n",
              "      border: none;\n",
              "      border-radius: 50%;\n",
              "      cursor: pointer;\n",
              "      display: none;\n",
              "      fill: #1967D2;\n",
              "      height: 32px;\n",
              "      padding: 0 0 0 0;\n",
              "      width: 32px;\n",
              "    }\n",
              "\n",
              "    .colab-df-convert:hover {\n",
              "      background-color: #E2EBFA;\n",
              "      box-shadow: 0px 1px 2px rgba(60, 64, 67, 0.3), 0px 1px 3px 1px rgba(60, 64, 67, 0.15);\n",
              "      fill: #174EA6;\n",
              "    }\n",
              "\n",
              "    [theme=dark] .colab-df-convert {\n",
              "      background-color: #3B4455;\n",
              "      fill: #D2E3FC;\n",
              "    }\n",
              "\n",
              "    [theme=dark] .colab-df-convert:hover {\n",
              "      background-color: #434B5C;\n",
              "      box-shadow: 0px 1px 3px 1px rgba(0, 0, 0, 0.15);\n",
              "      filter: drop-shadow(0px 1px 2px rgba(0, 0, 0, 0.3));\n",
              "      fill: #FFFFFF;\n",
              "    }\n",
              "  </style>\n",
              "\n",
              "      <script>\n",
              "        const buttonEl =\n",
              "          document.querySelector('#df-1efb4ed2-e264-4d89-93f6-da6744ef7495 button.colab-df-convert');\n",
              "        buttonEl.style.display =\n",
              "          google.colab.kernel.accessAllowed ? 'block' : 'none';\n",
              "\n",
              "        async function convertToInteractive(key) {\n",
              "          const element = document.querySelector('#df-1efb4ed2-e264-4d89-93f6-da6744ef7495');\n",
              "          const dataTable =\n",
              "            await google.colab.kernel.invokeFunction('convertToInteractive',\n",
              "                                                     [key], {});\n",
              "          if (!dataTable) return;\n",
              "\n",
              "          const docLinkHtml = 'Like what you see? Visit the ' +\n",
              "            '<a target=\"_blank\" href=https://colab.research.google.com/notebooks/data_table.ipynb>data table notebook</a>'\n",
              "            + ' to learn more about interactive tables.';\n",
              "          element.innerHTML = '';\n",
              "          dataTable['output_type'] = 'display_data';\n",
              "          await google.colab.output.renderOutput(dataTable, element);\n",
              "          const docLink = document.createElement('div');\n",
              "          docLink.innerHTML = docLinkHtml;\n",
              "          element.appendChild(docLink);\n",
              "        }\n",
              "      </script>\n",
              "    </div>\n",
              "  </div>\n",
              "  "
            ]
          },
          "metadata": {},
          "execution_count": 7
        }
      ]
    },
    {
      "cell_type": "code",
      "execution_count": 8,
      "metadata": {
        "id": "qizkbWKTVOxe"
      },
      "outputs": [],
      "source": [
        "train_subjects, test_subjects = model_selection.train_test_split(\n",
        "    node_subjects, train_size=140, test_size=None, stratify=node_subjects\n",
        ")\n",
        "val_subjects, test_subjects = model_selection.train_test_split(\n",
        "    test_subjects, train_size=500, test_size=None, stratify=test_subjects\n",
        ")\n",
        "\n"
      ]
    },
    {
      "cell_type": "code",
      "execution_count": 9,
      "metadata": {
        "id": "pPtjTvIcVOxf",
        "outputId": "cd5e8fae-fc73-4e00-e68a-c7023691f249",
        "colab": {
          "base_uri": "https://localhost:8080/",
          "height": 268
        }
      },
      "outputs": [
        {
          "output_type": "execute_result",
          "data": {
            "text/plain": [
              "                        subject\n",
              "Neural_Networks              42\n",
              "Genetic_Algorithms           22\n",
              "Probabilistic_Methods        22\n",
              "Theory                       18\n",
              "Case_Based                   16\n",
              "Reinforcement_Learning       11\n",
              "Rule_Learning                 9"
            ],
            "text/html": [
              "\n",
              "  <div id=\"df-ef5c401f-8a85-4d5b-b6fc-774363b21f86\">\n",
              "    <div class=\"colab-df-container\">\n",
              "      <div>\n",
              "<style scoped>\n",
              "    .dataframe tbody tr th:only-of-type {\n",
              "        vertical-align: middle;\n",
              "    }\n",
              "\n",
              "    .dataframe tbody tr th {\n",
              "        vertical-align: top;\n",
              "    }\n",
              "\n",
              "    .dataframe thead th {\n",
              "        text-align: right;\n",
              "    }\n",
              "</style>\n",
              "<table border=\"1\" class=\"dataframe\">\n",
              "  <thead>\n",
              "    <tr style=\"text-align: right;\">\n",
              "      <th></th>\n",
              "      <th>subject</th>\n",
              "    </tr>\n",
              "  </thead>\n",
              "  <tbody>\n",
              "    <tr>\n",
              "      <th>Neural_Networks</th>\n",
              "      <td>42</td>\n",
              "    </tr>\n",
              "    <tr>\n",
              "      <th>Genetic_Algorithms</th>\n",
              "      <td>22</td>\n",
              "    </tr>\n",
              "    <tr>\n",
              "      <th>Probabilistic_Methods</th>\n",
              "      <td>22</td>\n",
              "    </tr>\n",
              "    <tr>\n",
              "      <th>Theory</th>\n",
              "      <td>18</td>\n",
              "    </tr>\n",
              "    <tr>\n",
              "      <th>Case_Based</th>\n",
              "      <td>16</td>\n",
              "    </tr>\n",
              "    <tr>\n",
              "      <th>Reinforcement_Learning</th>\n",
              "      <td>11</td>\n",
              "    </tr>\n",
              "    <tr>\n",
              "      <th>Rule_Learning</th>\n",
              "      <td>9</td>\n",
              "    </tr>\n",
              "  </tbody>\n",
              "</table>\n",
              "</div>\n",
              "      <button class=\"colab-df-convert\" onclick=\"convertToInteractive('df-ef5c401f-8a85-4d5b-b6fc-774363b21f86')\"\n",
              "              title=\"Convert this dataframe to an interactive table.\"\n",
              "              style=\"display:none;\">\n",
              "        \n",
              "  <svg xmlns=\"http://www.w3.org/2000/svg\" height=\"24px\"viewBox=\"0 0 24 24\"\n",
              "       width=\"24px\">\n",
              "    <path d=\"M0 0h24v24H0V0z\" fill=\"none\"/>\n",
              "    <path d=\"M18.56 5.44l.94 2.06.94-2.06 2.06-.94-2.06-.94-.94-2.06-.94 2.06-2.06.94zm-11 1L8.5 8.5l.94-2.06 2.06-.94-2.06-.94L8.5 2.5l-.94 2.06-2.06.94zm10 10l.94 2.06.94-2.06 2.06-.94-2.06-.94-.94-2.06-.94 2.06-2.06.94z\"/><path d=\"M17.41 7.96l-1.37-1.37c-.4-.4-.92-.59-1.43-.59-.52 0-1.04.2-1.43.59L10.3 9.45l-7.72 7.72c-.78.78-.78 2.05 0 2.83L4 21.41c.39.39.9.59 1.41.59.51 0 1.02-.2 1.41-.59l7.78-7.78 2.81-2.81c.8-.78.8-2.07 0-2.86zM5.41 20L4 18.59l7.72-7.72 1.47 1.35L5.41 20z\"/>\n",
              "  </svg>\n",
              "      </button>\n",
              "      \n",
              "  <style>\n",
              "    .colab-df-container {\n",
              "      display:flex;\n",
              "      flex-wrap:wrap;\n",
              "      gap: 12px;\n",
              "    }\n",
              "\n",
              "    .colab-df-convert {\n",
              "      background-color: #E8F0FE;\n",
              "      border: none;\n",
              "      border-radius: 50%;\n",
              "      cursor: pointer;\n",
              "      display: none;\n",
              "      fill: #1967D2;\n",
              "      height: 32px;\n",
              "      padding: 0 0 0 0;\n",
              "      width: 32px;\n",
              "    }\n",
              "\n",
              "    .colab-df-convert:hover {\n",
              "      background-color: #E2EBFA;\n",
              "      box-shadow: 0px 1px 2px rgba(60, 64, 67, 0.3), 0px 1px 3px 1px rgba(60, 64, 67, 0.15);\n",
              "      fill: #174EA6;\n",
              "    }\n",
              "\n",
              "    [theme=dark] .colab-df-convert {\n",
              "      background-color: #3B4455;\n",
              "      fill: #D2E3FC;\n",
              "    }\n",
              "\n",
              "    [theme=dark] .colab-df-convert:hover {\n",
              "      background-color: #434B5C;\n",
              "      box-shadow: 0px 1px 3px 1px rgba(0, 0, 0, 0.15);\n",
              "      filter: drop-shadow(0px 1px 2px rgba(0, 0, 0, 0.3));\n",
              "      fill: #FFFFFF;\n",
              "    }\n",
              "  </style>\n",
              "\n",
              "      <script>\n",
              "        const buttonEl =\n",
              "          document.querySelector('#df-ef5c401f-8a85-4d5b-b6fc-774363b21f86 button.colab-df-convert');\n",
              "        buttonEl.style.display =\n",
              "          google.colab.kernel.accessAllowed ? 'block' : 'none';\n",
              "\n",
              "        async function convertToInteractive(key) {\n",
              "          const element = document.querySelector('#df-ef5c401f-8a85-4d5b-b6fc-774363b21f86');\n",
              "          const dataTable =\n",
              "            await google.colab.kernel.invokeFunction('convertToInteractive',\n",
              "                                                     [key], {});\n",
              "          if (!dataTable) return;\n",
              "\n",
              "          const docLinkHtml = 'Like what you see? Visit the ' +\n",
              "            '<a target=\"_blank\" href=https://colab.research.google.com/notebooks/data_table.ipynb>data table notebook</a>'\n",
              "            + ' to learn more about interactive tables.';\n",
              "          element.innerHTML = '';\n",
              "          dataTable['output_type'] = 'display_data';\n",
              "          await google.colab.output.renderOutput(dataTable, element);\n",
              "          const docLink = document.createElement('div');\n",
              "          docLink.innerHTML = docLinkHtml;\n",
              "          element.appendChild(docLink);\n",
              "        }\n",
              "      </script>\n",
              "    </div>\n",
              "  </div>\n",
              "  "
            ]
          },
          "metadata": {},
          "execution_count": 9
        }
      ],
      "source": [
        "train_subjects.value_counts().to_frame()"
      ]
    },
    {
      "cell_type": "code",
      "source": [
        "target_encoding = preprocessing.LabelBinarizer()\n",
        "\n",
        "train_targets = target_encoding.fit_transform(train_subjects)\n",
        "val_targets = target_encoding.transform(val_subjects)\n",
        "test_targets = target_encoding.transform(test_subjects)"
      ],
      "metadata": {
        "id": "bBRj11GOWmhH"
      },
      "execution_count": 10,
      "outputs": []
    },
    {
      "cell_type": "code",
      "source": [
        "generator = FullBatchNodeGenerator(G, method=\"gcn\")\n",
        "train_gen = generator.flow(train_subjects.index, train_targets)\n",
        "gcn = GCN(\n",
        "    layer_sizes=[16, 16], activations=[\"relu\", \"relu\"], generator=generator, dropout=0.5\n",
        ")"
      ],
      "metadata": {
        "colab": {
          "base_uri": "https://localhost:8080/"
        },
        "id": "gze3pSngXARD",
        "outputId": "8e5727b1-6a33-4bf2-f2ae-27f73c4554e1"
      },
      "execution_count": 11,
      "outputs": [
        {
          "output_type": "stream",
          "name": "stdout",
          "text": [
            "Using GCN (local pooling) filters...\n"
          ]
        }
      ]
    },
    {
      "cell_type": "code",
      "source": [
        "x_inp, x_out = gcn.in_out_tensors()\n",
        "\n",
        "x_out"
      ],
      "metadata": {
        "colab": {
          "base_uri": "https://localhost:8080/"
        },
        "id": "Cnw3DMXCXNZV",
        "outputId": "325a94ed-ae15-4e8e-a8e5-9eb0b7cef119"
      },
      "execution_count": 12,
      "outputs": [
        {
          "output_type": "execute_result",
          "data": {
            "text/plain": [
              "<KerasTensor: shape=(1, None, 16) dtype=float32 (created by layer 'gather_indices')>"
            ]
          },
          "metadata": {},
          "execution_count": 12
        }
      ]
    },
    {
      "cell_type": "code",
      "source": [
        "predictions = layers.Dense(units=train_targets.shape[1], activation=\"softmax\")(x_out)"
      ],
      "metadata": {
        "id": "7tvM1IU0XRNU"
      },
      "execution_count": 13,
      "outputs": []
    },
    {
      "cell_type": "code",
      "source": [
        "model = Model(inputs=x_inp, outputs=predictions)\n",
        "model.compile(\n",
        "    optimizer=optimizers.Adam(lr=0.01),\n",
        "    loss=losses.categorical_crossentropy,\n",
        "    metrics=[\"acc\"],\n",
        ")"
      ],
      "metadata": {
        "colab": {
          "base_uri": "https://localhost:8080/"
        },
        "id": "bXdYnkNRXU4r",
        "outputId": "60aabdf5-16cc-487e-ff3b-09dc0a8339ea"
      },
      "execution_count": 14,
      "outputs": [
        {
          "output_type": "stream",
          "name": "stderr",
          "text": [
            "/usr/local/lib/python3.7/dist-packages/keras/optimizer_v2/adam.py:105: UserWarning: The `lr` argument is deprecated, use `learning_rate` instead.\n",
            "  super(Adam, self).__init__(name, **kwargs)\n"
          ]
        }
      ]
    },
    {
      "cell_type": "code",
      "source": [
        "val_gen = generator.flow(val_subjects.index, val_targets)"
      ],
      "metadata": {
        "id": "wO177Q8DXaxb"
      },
      "execution_count": 15,
      "outputs": []
    },
    {
      "cell_type": "code",
      "source": [
        "from tensorflow.keras.callbacks import EarlyStopping\n",
        "\n",
        "es_callback = EarlyStopping(monitor=\"val_acc\", patience=50, restore_best_weights=True)"
      ],
      "metadata": {
        "id": "1soWWi-BXfVh"
      },
      "execution_count": 16,
      "outputs": []
    },
    {
      "cell_type": "code",
      "source": [
        "history = model.fit(\n",
        "    train_gen,\n",
        "    epochs=200,\n",
        "    validation_data=val_gen,\n",
        "    verbose=2,\n",
        "    shuffle=False,  # this should be False, since shuffling data means shuffling the whole graph\n",
        "    callbacks=[es_callback],\n",
        ")"
      ],
      "metadata": {
        "colab": {
          "base_uri": "https://localhost:8080/"
        },
        "id": "QkEsJrcOXgs7",
        "outputId": "7488aff6-0951-4ad0-e3c2-37629d285abf"
      },
      "execution_count": 17,
      "outputs": [
        {
          "output_type": "stream",
          "name": "stdout",
          "text": [
            "Epoch 1/200\n",
            "1/1 - 2s - loss: 1.9579 - acc: 0.1214 - val_loss: 1.9192 - val_acc: 0.2800 - 2s/epoch - 2s/step\n",
            "Epoch 2/200\n",
            "1/1 - 0s - loss: 1.9070 - acc: 0.3357 - val_loss: 1.8848 - val_acc: 0.3200 - 155ms/epoch - 155ms/step\n",
            "Epoch 3/200\n",
            "1/1 - 0s - loss: 1.8598 - acc: 0.3500 - val_loss: 1.8334 - val_acc: 0.3180 - 149ms/epoch - 149ms/step\n",
            "Epoch 4/200\n",
            "1/1 - 0s - loss: 1.7856 - acc: 0.3786 - val_loss: 1.7642 - val_acc: 0.3220 - 152ms/epoch - 152ms/step\n",
            "Epoch 5/200\n",
            "1/1 - 0s - loss: 1.7105 - acc: 0.3929 - val_loss: 1.6873 - val_acc: 0.3240 - 147ms/epoch - 147ms/step\n",
            "Epoch 6/200\n",
            "1/1 - 0s - loss: 1.6044 - acc: 0.3857 - val_loss: 1.6166 - val_acc: 0.3300 - 152ms/epoch - 152ms/step\n",
            "Epoch 7/200\n",
            "1/1 - 0s - loss: 1.5316 - acc: 0.4000 - val_loss: 1.5592 - val_acc: 0.3440 - 155ms/epoch - 155ms/step\n",
            "Epoch 8/200\n",
            "1/1 - 0s - loss: 1.4251 - acc: 0.4071 - val_loss: 1.4986 - val_acc: 0.4040 - 159ms/epoch - 159ms/step\n",
            "Epoch 9/200\n",
            "1/1 - 0s - loss: 1.3132 - acc: 0.4929 - val_loss: 1.4268 - val_acc: 0.5120 - 146ms/epoch - 146ms/step\n",
            "Epoch 10/200\n",
            "1/1 - 0s - loss: 1.2446 - acc: 0.5714 - val_loss: 1.3505 - val_acc: 0.5820 - 150ms/epoch - 150ms/step\n",
            "Epoch 11/200\n",
            "1/1 - 0s - loss: 1.1453 - acc: 0.6857 - val_loss: 1.2760 - val_acc: 0.6360 - 177ms/epoch - 177ms/step\n",
            "Epoch 12/200\n",
            "1/1 - 0s - loss: 1.0399 - acc: 0.7214 - val_loss: 1.2083 - val_acc: 0.6620 - 159ms/epoch - 159ms/step\n",
            "Epoch 13/200\n",
            "1/1 - 0s - loss: 0.9395 - acc: 0.7643 - val_loss: 1.1465 - val_acc: 0.6800 - 149ms/epoch - 149ms/step\n",
            "Epoch 14/200\n",
            "1/1 - 0s - loss: 0.8595 - acc: 0.7857 - val_loss: 1.0886 - val_acc: 0.6860 - 147ms/epoch - 147ms/step\n",
            "Epoch 15/200\n",
            "1/1 - 0s - loss: 0.7556 - acc: 0.8071 - val_loss: 1.0328 - val_acc: 0.6960 - 147ms/epoch - 147ms/step\n",
            "Epoch 16/200\n",
            "1/1 - 0s - loss: 0.7089 - acc: 0.8071 - val_loss: 0.9789 - val_acc: 0.7080 - 148ms/epoch - 148ms/step\n",
            "Epoch 17/200\n",
            "1/1 - 0s - loss: 0.6178 - acc: 0.8571 - val_loss: 0.9297 - val_acc: 0.7220 - 149ms/epoch - 149ms/step\n",
            "Epoch 18/200\n",
            "1/1 - 0s - loss: 0.5487 - acc: 0.8571 - val_loss: 0.8894 - val_acc: 0.7480 - 151ms/epoch - 151ms/step\n",
            "Epoch 19/200\n",
            "1/1 - 0s - loss: 0.5785 - acc: 0.8143 - val_loss: 0.8593 - val_acc: 0.7600 - 160ms/epoch - 160ms/step\n",
            "Epoch 20/200\n",
            "1/1 - 0s - loss: 0.4809 - acc: 0.8857 - val_loss: 0.8380 - val_acc: 0.7620 - 149ms/epoch - 149ms/step\n",
            "Epoch 21/200\n",
            "1/1 - 0s - loss: 0.4262 - acc: 0.8929 - val_loss: 0.8199 - val_acc: 0.7660 - 154ms/epoch - 154ms/step\n",
            "Epoch 22/200\n",
            "1/1 - 0s - loss: 0.3581 - acc: 0.9214 - val_loss: 0.8064 - val_acc: 0.7660 - 157ms/epoch - 157ms/step\n",
            "Epoch 23/200\n",
            "1/1 - 0s - loss: 0.3430 - acc: 0.9143 - val_loss: 0.8021 - val_acc: 0.7660 - 152ms/epoch - 152ms/step\n",
            "Epoch 24/200\n",
            "1/1 - 0s - loss: 0.2747 - acc: 0.9429 - val_loss: 0.8055 - val_acc: 0.7600 - 158ms/epoch - 158ms/step\n",
            "Epoch 25/200\n",
            "1/1 - 0s - loss: 0.3152 - acc: 0.8857 - val_loss: 0.7968 - val_acc: 0.7600 - 152ms/epoch - 152ms/step\n",
            "Epoch 26/200\n",
            "1/1 - 0s - loss: 0.2968 - acc: 0.9286 - val_loss: 0.7916 - val_acc: 0.7720 - 151ms/epoch - 151ms/step\n",
            "Epoch 27/200\n",
            "1/1 - 0s - loss: 0.2555 - acc: 0.9357 - val_loss: 0.7951 - val_acc: 0.7760 - 157ms/epoch - 157ms/step\n",
            "Epoch 28/200\n",
            "1/1 - 0s - loss: 0.2307 - acc: 0.9571 - val_loss: 0.8075 - val_acc: 0.7780 - 151ms/epoch - 151ms/step\n",
            "Epoch 29/200\n",
            "1/1 - 0s - loss: 0.1884 - acc: 0.9429 - val_loss: 0.8230 - val_acc: 0.7800 - 150ms/epoch - 150ms/step\n",
            "Epoch 30/200\n",
            "1/1 - 0s - loss: 0.1562 - acc: 0.9714 - val_loss: 0.8385 - val_acc: 0.7760 - 148ms/epoch - 148ms/step\n",
            "Epoch 31/200\n",
            "1/1 - 0s - loss: 0.2234 - acc: 0.9286 - val_loss: 0.8542 - val_acc: 0.7720 - 140ms/epoch - 140ms/step\n",
            "Epoch 32/200\n",
            "1/1 - 0s - loss: 0.1367 - acc: 0.9571 - val_loss: 0.8767 - val_acc: 0.7760 - 150ms/epoch - 150ms/step\n",
            "Epoch 33/200\n",
            "1/1 - 0s - loss: 0.1595 - acc: 0.9571 - val_loss: 0.9050 - val_acc: 0.7720 - 149ms/epoch - 149ms/step\n",
            "Epoch 34/200\n",
            "1/1 - 0s - loss: 0.1224 - acc: 0.9714 - val_loss: 0.9451 - val_acc: 0.7620 - 148ms/epoch - 148ms/step\n",
            "Epoch 35/200\n",
            "1/1 - 0s - loss: 0.1427 - acc: 0.9643 - val_loss: 0.9759 - val_acc: 0.7520 - 149ms/epoch - 149ms/step\n",
            "Epoch 36/200\n",
            "1/1 - 0s - loss: 0.1053 - acc: 0.9714 - val_loss: 0.9938 - val_acc: 0.7480 - 147ms/epoch - 147ms/step\n",
            "Epoch 37/200\n",
            "1/1 - 0s - loss: 0.1023 - acc: 0.9714 - val_loss: 1.0066 - val_acc: 0.7420 - 163ms/epoch - 163ms/step\n",
            "Epoch 38/200\n",
            "1/1 - 0s - loss: 0.1005 - acc: 0.9786 - val_loss: 1.0076 - val_acc: 0.7460 - 147ms/epoch - 147ms/step\n",
            "Epoch 39/200\n",
            "1/1 - 0s - loss: 0.0876 - acc: 0.9929 - val_loss: 0.9987 - val_acc: 0.7560 - 150ms/epoch - 150ms/step\n",
            "Epoch 40/200\n",
            "1/1 - 0s - loss: 0.0482 - acc: 0.9929 - val_loss: 0.9910 - val_acc: 0.7540 - 163ms/epoch - 163ms/step\n",
            "Epoch 41/200\n",
            "1/1 - 0s - loss: 0.0853 - acc: 0.9786 - val_loss: 0.9857 - val_acc: 0.7660 - 152ms/epoch - 152ms/step\n",
            "Epoch 42/200\n",
            "1/1 - 0s - loss: 0.0810 - acc: 0.9857 - val_loss: 0.9918 - val_acc: 0.7740 - 155ms/epoch - 155ms/step\n",
            "Epoch 43/200\n",
            "1/1 - 0s - loss: 0.0592 - acc: 0.9857 - val_loss: 1.0056 - val_acc: 0.7780 - 153ms/epoch - 153ms/step\n",
            "Epoch 44/200\n",
            "1/1 - 0s - loss: 0.0696 - acc: 0.9857 - val_loss: 1.0256 - val_acc: 0.7780 - 142ms/epoch - 142ms/step\n",
            "Epoch 45/200\n",
            "1/1 - 0s - loss: 0.0956 - acc: 0.9714 - val_loss: 1.0429 - val_acc: 0.7660 - 150ms/epoch - 150ms/step\n",
            "Epoch 46/200\n",
            "1/1 - 0s - loss: 0.1074 - acc: 0.9714 - val_loss: 1.0624 - val_acc: 0.7600 - 154ms/epoch - 154ms/step\n",
            "Epoch 47/200\n",
            "1/1 - 0s - loss: 0.0929 - acc: 0.9786 - val_loss: 1.0704 - val_acc: 0.7700 - 158ms/epoch - 158ms/step\n",
            "Epoch 48/200\n",
            "1/1 - 0s - loss: 0.0583 - acc: 0.9857 - val_loss: 1.0726 - val_acc: 0.7780 - 147ms/epoch - 147ms/step\n",
            "Epoch 49/200\n",
            "1/1 - 0s - loss: 0.0885 - acc: 0.9857 - val_loss: 1.0752 - val_acc: 0.7740 - 147ms/epoch - 147ms/step\n",
            "Epoch 50/200\n",
            "1/1 - 0s - loss: 0.0449 - acc: 0.9857 - val_loss: 1.0796 - val_acc: 0.7700 - 161ms/epoch - 161ms/step\n",
            "Epoch 51/200\n",
            "1/1 - 0s - loss: 0.0275 - acc: 1.0000 - val_loss: 1.0874 - val_acc: 0.7660 - 152ms/epoch - 152ms/step\n",
            "Epoch 52/200\n",
            "1/1 - 0s - loss: 0.0997 - acc: 0.9643 - val_loss: 1.0980 - val_acc: 0.7620 - 148ms/epoch - 148ms/step\n",
            "Epoch 53/200\n",
            "1/1 - 0s - loss: 0.0560 - acc: 0.9786 - val_loss: 1.1070 - val_acc: 0.7560 - 152ms/epoch - 152ms/step\n",
            "Epoch 54/200\n",
            "1/1 - 0s - loss: 0.0611 - acc: 0.9786 - val_loss: 1.1100 - val_acc: 0.7500 - 153ms/epoch - 153ms/step\n",
            "Epoch 55/200\n",
            "1/1 - 0s - loss: 0.0446 - acc: 0.9857 - val_loss: 1.1136 - val_acc: 0.7480 - 149ms/epoch - 149ms/step\n",
            "Epoch 56/200\n",
            "1/1 - 0s - loss: 0.0665 - acc: 0.9857 - val_loss: 1.1196 - val_acc: 0.7480 - 149ms/epoch - 149ms/step\n",
            "Epoch 57/200\n",
            "1/1 - 0s - loss: 0.0738 - acc: 0.9857 - val_loss: 1.1248 - val_acc: 0.7540 - 145ms/epoch - 145ms/step\n",
            "Epoch 58/200\n",
            "1/1 - 0s - loss: 0.0710 - acc: 0.9643 - val_loss: 1.1347 - val_acc: 0.7540 - 144ms/epoch - 144ms/step\n",
            "Epoch 59/200\n",
            "1/1 - 0s - loss: 0.0427 - acc: 0.9857 - val_loss: 1.1466 - val_acc: 0.7540 - 148ms/epoch - 148ms/step\n",
            "Epoch 60/200\n",
            "1/1 - 0s - loss: 0.0577 - acc: 0.9786 - val_loss: 1.1570 - val_acc: 0.7600 - 153ms/epoch - 153ms/step\n",
            "Epoch 61/200\n",
            "1/1 - 0s - loss: 0.0509 - acc: 0.9786 - val_loss: 1.1674 - val_acc: 0.7560 - 147ms/epoch - 147ms/step\n",
            "Epoch 62/200\n",
            "1/1 - 0s - loss: 0.0281 - acc: 1.0000 - val_loss: 1.1796 - val_acc: 0.7600 - 145ms/epoch - 145ms/step\n",
            "Epoch 63/200\n",
            "1/1 - 0s - loss: 0.0421 - acc: 0.9857 - val_loss: 1.1960 - val_acc: 0.7620 - 146ms/epoch - 146ms/step\n",
            "Epoch 64/200\n",
            "1/1 - 0s - loss: 0.0272 - acc: 0.9929 - val_loss: 1.2104 - val_acc: 0.7580 - 144ms/epoch - 144ms/step\n",
            "Epoch 65/200\n",
            "1/1 - 0s - loss: 0.0536 - acc: 0.9857 - val_loss: 1.2329 - val_acc: 0.7600 - 160ms/epoch - 160ms/step\n",
            "Epoch 66/200\n",
            "1/1 - 0s - loss: 0.0463 - acc: 0.9929 - val_loss: 1.2551 - val_acc: 0.7580 - 148ms/epoch - 148ms/step\n",
            "Epoch 67/200\n",
            "1/1 - 0s - loss: 0.0250 - acc: 1.0000 - val_loss: 1.2718 - val_acc: 0.7560 - 145ms/epoch - 145ms/step\n",
            "Epoch 68/200\n",
            "1/1 - 0s - loss: 0.0181 - acc: 1.0000 - val_loss: 1.2842 - val_acc: 0.7520 - 144ms/epoch - 144ms/step\n",
            "Epoch 69/200\n",
            "1/1 - 0s - loss: 0.0571 - acc: 0.9786 - val_loss: 1.2793 - val_acc: 0.7520 - 145ms/epoch - 145ms/step\n",
            "Epoch 70/200\n",
            "1/1 - 0s - loss: 0.0336 - acc: 0.9929 - val_loss: 1.2642 - val_acc: 0.7580 - 146ms/epoch - 146ms/step\n",
            "Epoch 71/200\n",
            "1/1 - 0s - loss: 0.0303 - acc: 1.0000 - val_loss: 1.2489 - val_acc: 0.7600 - 159ms/epoch - 159ms/step\n",
            "Epoch 72/200\n",
            "1/1 - 0s - loss: 0.0232 - acc: 1.0000 - val_loss: 1.2380 - val_acc: 0.7600 - 422ms/epoch - 422ms/step\n",
            "Epoch 73/200\n",
            "1/1 - 0s - loss: 0.0416 - acc: 0.9929 - val_loss: 1.2317 - val_acc: 0.7580 - 157ms/epoch - 157ms/step\n",
            "Epoch 74/200\n",
            "1/1 - 0s - loss: 0.0321 - acc: 0.9857 - val_loss: 1.2239 - val_acc: 0.7600 - 148ms/epoch - 148ms/step\n",
            "Epoch 75/200\n",
            "1/1 - 0s - loss: 0.0477 - acc: 0.9786 - val_loss: 1.2200 - val_acc: 0.7600 - 145ms/epoch - 145ms/step\n",
            "Epoch 76/200\n",
            "1/1 - 0s - loss: 0.0279 - acc: 0.9929 - val_loss: 1.2202 - val_acc: 0.7660 - 149ms/epoch - 149ms/step\n",
            "Epoch 77/200\n",
            "1/1 - 0s - loss: 0.0178 - acc: 1.0000 - val_loss: 1.2226 - val_acc: 0.7680 - 150ms/epoch - 150ms/step\n",
            "Epoch 78/200\n",
            "1/1 - 0s - loss: 0.0183 - acc: 1.0000 - val_loss: 1.2257 - val_acc: 0.7680 - 149ms/epoch - 149ms/step\n",
            "Epoch 79/200\n",
            "1/1 - 0s - loss: 0.0195 - acc: 1.0000 - val_loss: 1.2298 - val_acc: 0.7700 - 146ms/epoch - 146ms/step\n"
          ]
        }
      ]
    },
    {
      "cell_type": "code",
      "source": [
        "sg.utils.plot_history(history)"
      ],
      "metadata": {
        "colab": {
          "base_uri": "https://localhost:8080/",
          "height": 585
        },
        "id": "oUfRZnZpXtNh",
        "outputId": "b285b1b5-ebc1-4460-cf78-c6d7451c556a"
      },
      "execution_count": 18,
      "outputs": [
        {
          "output_type": "display_data",
          "data": {
            "text/plain": [
              "<Figure size 504x576 with 2 Axes>"
            ],
            "image/png": "[encoded data removed]"
          },
          "metadata": {
            "needs_background": "light"
          }
        }
      ]
    },
    {
      "cell_type": "code",
      "source": [
        "test_gen = generator.flow(test_subjects.index, test_targets)"
      ],
      "metadata": {
        "id": "HQHuVWxhX_Nh"
      },
      "execution_count": 19,
      "outputs": []
    },
    {
      "cell_type": "code",
      "source": [
        "test_metrics = model.evaluate(test_gen)\n",
        "print(\"\\nTest Set Metrics:\")\n",
        "for name, val in zip(model.metrics_names, test_metrics):\n",
        "    print(\"\\t{}: {:0.4f}\".format(name, val))"
      ],
      "metadata": {
        "colab": {
          "base_uri": "https://localhost:8080/"
        },
        "id": "NeMdvP0bYDlP",
        "outputId": "9cf8c903-884d-4a0b-9631-490cfd95e0c2"
      },
      "execution_count": 20,
      "outputs": [
        {
          "output_type": "stream",
          "name": "stdout",
          "text": [
            "1/1 [==============================] - 0s 152ms/step - loss: 0.7515 - acc: 0.7834\n",
            "\n",
            "Test Set Metrics:\n",
            "\tloss: 0.7515\n",
            "\tacc: 0.7834\n"
          ]
        }
      ]
    },
    {
      "cell_type": "code",
      "source": [
        "all_nodes = node_subjects.index\n",
        "all_gen = generator.flow(all_nodes)\n",
        "all_predictions = model.predict(all_gen)"
      ],
      "metadata": {
        "id": "1wXhzSlfYHM8"
      },
      "execution_count": 21,
      "outputs": []
    },
    {
      "cell_type": "code",
      "source": [
        "node_predictions = target_encoding.inverse_transform(all_predictions.squeeze())"
      ],
      "metadata": {
        "id": "blBsJPu1YcDv"
      },
      "execution_count": 22,
      "outputs": []
    },
    {
      "cell_type": "code",
      "source": [
        "df = pd.DataFrame({\"Predicted\": node_predictions, \"True\": node_subjects})\n",
        "df.head(20)"
      ],
      "metadata": {
        "colab": {
          "base_uri": "https://localhost:8080/",
          "height": 676
        },
        "id": "sO1bfKl4Yexp",
        "outputId": "f14a0d50-8b06-4982-859a-f659af1b29cc"
      },
      "execution_count": 23,
      "outputs": [
        {
          "output_type": "execute_result",
          "data": {
            "text/plain": [
              "                      Predicted                    True\n",
              "31336           Neural_Networks         Neural_Networks\n",
              "1061127              Case_Based           Rule_Learning\n",
              "1106406  Reinforcement_Learning  Reinforcement_Learning\n",
              "13195    Reinforcement_Learning  Reinforcement_Learning\n",
              "37879     Probabilistic_Methods   Probabilistic_Methods\n",
              "1126012   Probabilistic_Methods   Probabilistic_Methods\n",
              "1107140  Reinforcement_Learning                  Theory\n",
              "1102850         Neural_Networks         Neural_Networks\n",
              "31349           Neural_Networks         Neural_Networks\n",
              "1106418                  Theory                  Theory\n",
              "1123188         Neural_Networks         Neural_Networks\n",
              "1128990         Neural_Networks      Genetic_Algorithms\n",
              "109323    Probabilistic_Methods   Probabilistic_Methods\n",
              "217139               Case_Based              Case_Based\n",
              "31353           Neural_Networks         Neural_Networks\n",
              "32083           Neural_Networks         Neural_Networks\n",
              "1126029  Reinforcement_Learning  Reinforcement_Learning\n",
              "1118017         Neural_Networks         Neural_Networks\n",
              "49482           Neural_Networks         Neural_Networks\n",
              "753265          Neural_Networks         Neural_Networks"
            ],
            "text/html": [
              "\n",
              "  <div id=\"df-8bdd8ee9-07bd-4a2d-852d-4a3cdbf83473\">\n",
              "    <div class=\"colab-df-container\">\n",
              "      <div>\n",
              "<style scoped>\n",
              "    .dataframe tbody tr th:only-of-type {\n",
              "        vertical-align: middle;\n",
              "    }\n",
              "\n",
              "    .dataframe tbody tr th {\n",
              "        vertical-align: top;\n",
              "    }\n",
              "\n",
              "    .dataframe thead th {\n",
              "        text-align: right;\n",
              "    }\n",
              "</style>\n",
              "<table border=\"1\" class=\"dataframe\">\n",
              "  <thead>\n",
              "    <tr style=\"text-align: right;\">\n",
              "      <th></th>\n",
              "      <th>Predicted</th>\n",
              "      <th>True</th>\n",
              "    </tr>\n",
              "  </thead>\n",
              "  <tbody>\n",
              "    <tr>\n",
              "      <th>31336</th>\n",
              "      <td>Neural_Networks</td>\n",
              "      <td>Neural_Networks</td>\n",
              "    </tr>\n",
              "    <tr>\n",
              "      <th>1061127</th>\n",
              "      <td>Case_Based</td>\n",
              "      <td>Rule_Learning</td>\n",
              "    </tr>\n",
              "    <tr>\n",
              "      <th>1106406</th>\n",
              "      <td>Reinforcement_Learning</td>\n",
              "      <td>Reinforcement_Learning</td>\n",
              "    </tr>\n",
              "    <tr>\n",
              "      <th>13195</th>\n",
              "      <td>Reinforcement_Learning</td>\n",
              "      <td>Reinforcement_Learning</td>\n",
              "    </tr>\n",
              "    <tr>\n",
              "      <th>37879</th>\n",
              "      <td>Probabilistic_Methods</td>\n",
              "      <td>Probabilistic_Methods</td>\n",
              "    </tr>\n",
              "    <tr>\n",
              "      <th>1126012</th>\n",
              "      <td>Probabilistic_Methods</td>\n",
              "      <td>Probabilistic_Methods</td>\n",
              "    </tr>\n",
              "    <tr>\n",
              "      <th>1107140</th>\n",
              "      <td>Reinforcement_Learning</td>\n",
              "      <td>Theory</td>\n",
              "    </tr>\n",
              "    <tr>\n",
              "      <th>1102850</th>\n",
              "      <td>Neural_Networks</td>\n",
              "      <td>Neural_Networks</td>\n",
              "    </tr>\n",
              "    <tr>\n",
              "      <th>31349</th>\n",
              "      <td>Neural_Networks</td>\n",
              "      <td>Neural_Networks</td>\n",
              "    </tr>\n",
              "    <tr>\n",
              "      <th>1106418</th>\n",
              "      <td>Theory</td>\n",
              "      <td>Theory</td>\n",
              "    </tr>\n",
              "    <tr>\n",
              "      <th>1123188</th>\n",
              "      <td>Neural_Networks</td>\n",
              "      <td>Neural_Networks</td>\n",
              "    </tr>\n",
              "    <tr>\n",
              "      <th>1128990</th>\n",
              "      <td>Neural_Networks</td>\n",
              "      <td>Genetic_Algorithms</td>\n",
              "    </tr>\n",
              "    <tr>\n",
              "      <th>109323</th>\n",
              "      <td>Probabilistic_Methods</td>\n",
              "      <td>Probabilistic_Methods</td>\n",
              "    </tr>\n",
              "    <tr>\n",
              "      <th>217139</th>\n",
              "      <td>Case_Based</td>\n",
              "      <td>Case_Based</td>\n",
              "    </tr>\n",
              "    <tr>\n",
              "      <th>31353</th>\n",
              "      <td>Neural_Networks</td>\n",
              "      <td>Neural_Networks</td>\n",
              "    </tr>\n",
              "    <tr>\n",
              "      <th>32083</th>\n",
              "      <td>Neural_Networks</td>\n",
              "      <td>Neural_Networks</td>\n",
              "    </tr>\n",
              "    <tr>\n",
              "      <th>1126029</th>\n",
              "      <td>Reinforcement_Learning</td>\n",
              "      <td>Reinforcement_Learning</td>\n",
              "    </tr>\n",
              "    <tr>\n",
              "      <th>1118017</th>\n",
              "      <td>Neural_Networks</td>\n",
              "      <td>Neural_Networks</td>\n",
              "    </tr>\n",
              "    <tr>\n",
              "      <th>49482</th>\n",
              "      <td>Neural_Networks</td>\n",
              "      <td>Neural_Networks</td>\n",
              "    </tr>\n",
              "    <tr>\n",
              "      <th>753265</th>\n",
              "      <td>Neural_Networks</td>\n",
              "      <td>Neural_Networks</td>\n",
              "    </tr>\n",
              "  </tbody>\n",
              "</table>\n",
              "</div>\n",
              "      <button class=\"colab-df-convert\" onclick=\"convertToInteractive('df-8bdd8ee9-07bd-4a2d-852d-4a3cdbf83473')\"\n",
              "              title=\"Convert this dataframe to an interactive table.\"\n",
              "              style=\"display:none;\">\n",
              "        \n",
              "  <svg xmlns=\"http://www.w3.org/2000/svg\" height=\"24px\"viewBox=\"0 0 24 24\"\n",
              "       width=\"24px\">\n",
              "    <path d=\"M0 0h24v24H0V0z\" fill=\"none\"/>\n",
              "    <path d=\"M18.56 5.44l.94 2.06.94-2.06 2.06-.94-2.06-.94-.94-2.06-.94 2.06-2.06.94zm-11 1L8.5 8.5l.94-2.06 2.06-.94-2.06-.94L8.5 2.5l-.94 2.06-2.06.94zm10 10l.94 2.06.94-2.06 2.06-.94-2.06-.94-.94-2.06-.94 2.06-2.06.94z\"/><path d=\"M17.41 7.96l-1.37-1.37c-.4-.4-.92-.59-1.43-.59-.52 0-1.04.2-1.43.59L10.3 9.45l-7.72 7.72c-.78.78-.78 2.05 0 2.83L4 21.41c.39.39.9.59 1.41.59.51 0 1.02-.2 1.41-.59l7.78-7.78 2.81-2.81c.8-.78.8-2.07 0-2.86zM5.41 20L4 18.59l7.72-7.72 1.47 1.35L5.41 20z\"/>\n",
              "  </svg>\n",
              "      </button>\n",
              "      \n",
              "  <style>\n",
              "    .colab-df-container {\n",
              "      display:flex;\n",
              "      flex-wrap:wrap;\n",
              "      gap: 12px;\n",
              "    }\n",
              "\n",
              "    .colab-df-convert {\n",
              "      background-color: #E8F0FE;\n",
              "      border: none;\n",
              "      border-radius: 50%;\n",
              "      cursor: pointer;\n",
              "      display: none;\n",
              "      fill: #1967D2;\n",
              "      height: 32px;\n",
              "      padding: 0 0 0 0;\n",
              "      width: 32px;\n",
              "    }\n",
              "\n",
              "    .colab-df-convert:hover {\n",
              "      background-color: #E2EBFA;\n",
              "      box-shadow: 0px 1px 2px rgba(60, 64, 67, 0.3), 0px 1px 3px 1px rgba(60, 64, 67, 0.15);\n",
              "      fill: #174EA6;\n",
              "    }\n",
              "\n",
              "    [theme=dark] .colab-df-convert {\n",
              "      background-color: #3B4455;\n",
              "      fill: #D2E3FC;\n",
              "    }\n",
              "\n",
              "    [theme=dark] .colab-df-convert:hover {\n",
              "      background-color: #434B5C;\n",
              "      box-shadow: 0px 1px 3px 1px rgba(0, 0, 0, 0.15);\n",
              "      filter: drop-shadow(0px 1px 2px rgba(0, 0, 0, 0.3));\n",
              "      fill: #FFFFFF;\n",
              "    }\n",
              "  </style>\n",
              "\n",
              "      <script>\n",
              "        const buttonEl =\n",
              "          document.querySelector('#df-8bdd8ee9-07bd-4a2d-852d-4a3cdbf83473 button.colab-df-convert');\n",
              "        buttonEl.style.display =\n",
              "          google.colab.kernel.accessAllowed ? 'block' : 'none';\n",
              "\n",
              "        async function convertToInteractive(key) {\n",
              "          const element = document.querySelector('#df-8bdd8ee9-07bd-4a2d-852d-4a3cdbf83473');\n",
              "          const dataTable =\n",
              "            await google.colab.kernel.invokeFunction('convertToInteractive',\n",
              "                                                     [key], {});\n",
              "          if (!dataTable) return;\n",
              "\n",
              "          const docLinkHtml = 'Like what you see? Visit the ' +\n",
              "            '<a target=\"_blank\" href=https://colab.research.google.com/notebooks/data_table.ipynb>data table notebook</a>'\n",
              "            + ' to learn more about interactive tables.';\n",
              "          element.innerHTML = '';\n",
              "          dataTable['output_type'] = 'display_data';\n",
              "          await google.colab.output.renderOutput(dataTable, element);\n",
              "          const docLink = document.createElement('div');\n",
              "          docLink.innerHTML = docLinkHtml;\n",
              "          element.appendChild(docLink);\n",
              "        }\n",
              "      </script>\n",
              "    </div>\n",
              "  </div>\n",
              "  "
            ]
          },
          "metadata": {},
          "execution_count": 23
        }
      ]
    },
    {
      "cell_type": "code",
      "source": [
        "embedding_model = Model(inputs=x_inp, outputs=x_out)"
      ],
      "metadata": {
        "id": "QWwOftPLYkGI"
      },
      "execution_count": 24,
      "outputs": []
    },
    {
      "cell_type": "code",
      "source": [
        "emb = embedding_model.predict(all_gen)\n",
        "emb.shape"
      ],
      "metadata": {
        "colab": {
          "base_uri": "https://localhost:8080/"
        },
        "id": "s_0xcHw5rLku",
        "outputId": "3daa9840-301e-4270-b547-0c63f21a59a9"
      },
      "execution_count": 25,
      "outputs": [
        {
          "output_type": "execute_result",
          "data": {
            "text/plain": [
              "(1, 2708, 16)"
            ]
          },
          "metadata": {},
          "execution_count": 25
        }
      ]
    },
    {
      "cell_type": "code",
      "source": [
        "from sklearn.decomposition import PCA\n",
        "from sklearn.manifold import TSNE\n",
        "\n",
        "transform = TSNE  # or PCA"
      ],
      "metadata": {
        "id": "pokxta8ArOX3"
      },
      "execution_count": 26,
      "outputs": []
    },
    {
      "cell_type": "code",
      "source": [
        "X = emb.squeeze(0)\n",
        "X.shape\n",
        "\n",
        "trans = transform(n_components=2)\n",
        "X_reduced = trans.fit_transform(X)\n",
        "X_reduced.shape"
      ],
      "metadata": {
        "colab": {
          "base_uri": "https://localhost:8080/"
        },
        "id": "458AwPHIrRav",
        "outputId": "44df1244-15f8-4837-b117-caabbd71cc85"
      },
      "execution_count": 27,
      "outputs": [
        {
          "output_type": "stream",
          "name": "stderr",
          "text": [
            "/usr/local/lib/python3.7/dist-packages/sklearn/manifold/_t_sne.py:783: FutureWarning: The default initialization in TSNE will change from 'random' to 'pca' in 1.2.\n",
            "  FutureWarning,\n",
            "/usr/local/lib/python3.7/dist-packages/sklearn/manifold/_t_sne.py:793: FutureWarning: The default learning rate in TSNE will change from 200.0 to 'auto' in 1.2.\n",
            "  FutureWarning,\n"
          ]
        },
        {
          "output_type": "execute_result",
          "data": {
            "text/plain": [
              "(2708, 2)"
            ]
          },
          "metadata": {},
          "execution_count": 27
        }
      ]
    },
    {
      "cell_type": "code",
      "source": [
        "fig, ax = plt.subplots(figsize=(7, 7))\n",
        "ax.scatter(\n",
        "    X_reduced[:, 0],\n",
        "    X_reduced[:, 1],\n",
        "    c=node_subjects.astype(\"category\").cat.codes,\n",
        "    cmap=\"jet\",\n",
        "    alpha=0.7,\n",
        ")\n",
        "ax.set(\n",
        "    aspect=\"equal\",\n",
        "    xlabel=\"$X_1$\",\n",
        "    ylabel=\"$X_2$\",\n",
        "    title=f\"{transform.__name__} visualization of GCN embeddings for cora dataset\",\n",
        ")"
      ],
      "metadata": {
        "colab": {
          "base_uri": "https://localhost:8080/",
          "height": 490
        },
        "id": "q-r42yjDrXJz",
        "outputId": "b15a641c-fd59-47da-c850-aed0ac0b9ffe"
      },
      "execution_count": 28,
      "outputs": [
        {
          "output_type": "execute_result",
          "data": {
            "text/plain": [
              "[Text(0, 0.5, '$X_2$'),\n",
              " Text(0.5, 0, '$X_1$'),\n",
              " Text(0.5, 1.0, 'TSNE visualization of GCN embeddings for cora dataset'),\n",
              " None]"
            ]
          },
          "metadata": {},
          "execution_count": 28
        },
        {
          "output_type": "display_data",
          "data": {
            "text/plain": [
              "<Figure size 504x504 with 1 Axes>"
            ],
            "image/png": "[encoded data removed]"
          },
          "metadata": {
            "needs_background": "light"
          }
        }
      ]
    }
  ]
}